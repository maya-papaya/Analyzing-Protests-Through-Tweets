{
  "nbformat": 4,
  "nbformat_minor": 0,
  "metadata": {
    "colab": {
      "provenance": [],
      "authorship_tag": "ABX9TyNHXGpk8LfSsIrJTOS/Lty9"
    },
    "kernelspec": {
      "name": "python3",
      "display_name": "Python 3"
    },
    "language_info": {
      "name": "python"
    }
  },
  "cells": [
    {
      "cell_type": "markdown",
      "source": [
        "# Step 1: Collecting Datasets\n",
        "\n",
        "First, I need to collect all of my necessary datasets.\n",
        "\n",
        "For this project, I am going to be using these datasets (sourced from Kaggle):\n",
        "\n",
        "\n",
        "\n",
        "*   WomensMarch Tweets (https://www.kaggle.com/datasets/adhok93/inauguration-and-womensmarch-tweets)\n",
        "*   2020–2021 Indian farmers' protest (https://www.kaggle.com/datasets/prathamsharma123/farmers-protest-tweets-dataset-csv)\n",
        "\n"
      ],
      "metadata": {
        "id": "xpUHEkl2gS_V"
      }
    },
    {
      "cell_type": "code",
      "source": [
        "from google.colab import drive\n",
        "drive.mount('/content/drive')"
      ],
      "metadata": {
        "id": "X70f532TKv8G"
      },
      "execution_count": null,
      "outputs": []
    },
    {
      "cell_type": "code",
      "source": [
        "! pip install kaggle"
      ],
      "metadata": {
        "id": "Th1VsRaX5RYR"
      },
      "execution_count": null,
      "outputs": []
    },
    {
      "cell_type": "code",
      "source": [
        "! mkdir ~/.kaggle"
      ],
      "metadata": {
        "id": "3p1IYyhU5SRB"
      },
      "execution_count": null,
      "outputs": []
    },
    {
      "cell_type": "code",
      "source": [
        "! cp /content/drive/MyDrive/kaggle.json ~/.kaggle/kaggle.json"
      ],
      "metadata": {
        "id": "QNWVWPbj5Suh"
      },
      "execution_count": null,
      "outputs": []
    },
    {
      "cell_type": "code",
      "source": [
        "! kaggle datasets download adhok93/inauguration-and-womensmarch-tweets"
      ],
      "metadata": {
        "id": "aB49myRM5bUZ"
      },
      "execution_count": null,
      "outputs": []
    },
    {
      "cell_type": "code",
      "source": [
        "!unzip inauguration-and-womensmarch-tweets.zip"
      ],
      "metadata": {
        "id": "P2qCB5z579TJ"
      },
      "execution_count": null,
      "outputs": []
    },
    {
      "cell_type": "code",
      "source": [
        "! kaggle datasets download prathamsharma123/farmers-protest-tweets-dataset-csv"
      ],
      "metadata": {
        "id": "nlC3BIEH7eIb"
      },
      "execution_count": null,
      "outputs": []
    },
    {
      "cell_type": "code",
      "source": [
        "!unzip farmers-protest-tweets-dataset-csv.zip"
      ],
      "metadata": {
        "id": "UjWpr2jP8BlE"
      },
      "execution_count": null,
      "outputs": []
    },
    {
      "cell_type": "markdown",
      "source": [
        "Now that we've uploaded the two datasets to this Colab Notebook, let's take a look at what they look like:"
      ],
      "metadata": {
        "id": "NhT18Uc6841B"
      }
    },
    {
      "cell_type": "code",
      "source": [
        "import pandas as pd\n",
        "\n",
        "womenmarch = pd.read_csv(\"womenmarch.csv\",encoding='ISO-8859-1')\n",
        "womenmarch.head()"
      ],
      "metadata": {
        "colab": {
          "base_uri": "https://localhost:8080/",
          "height": 557
        },
        "id": "Zk-qRNil7qUK",
        "outputId": "4b74b1b6-3279-4ccb-8de7-844742fbdc26"
      },
      "execution_count": 38,
      "outputs": [
        {
          "output_type": "execute_result",
          "data": {
            "text/plain": [
              "   Unnamed: 0                                               text  favorited  \\\n",
              "0           1  So far, I think 2017 has been the year of the ...      False   \n",
              "1           2  I'm attending a @theactionnet event: Stanislau...      False   \n",
              "2           3  RT @AmyMek: Meanwhile In Washington State... (...      False   \n",
              "3           4  Bet #womensmarch co-founder , l sarsour has lo...      False   \n",
              "4           5  RT @yashar: WATCH: In her first video statemen...      False   \n",
              "\n",
              "   favoriteCount replyToSN              created  truncated  replyToSID  \\\n",
              "0              0       NaN  2017-02-08 05:14:24      False         NaN   \n",
              "1              0       NaN  2017-02-08 05:14:18      False         NaN   \n",
              "2              0       NaN  2017-02-08 05:14:17      False         NaN   \n",
              "3              0       NaN  2017-02-08 05:14:07       True         NaN   \n",
              "4              0       NaN  2017-02-08 05:13:58      False         NaN   \n",
              "\n",
              "                   id  replyToUID         statusSource       screenName  \\\n",
              "0  829196660546949120         NaN            TweetDeck           KubeJ9   \n",
              "1  829196636396072960         NaN   Twitter Web Client        AnnStrahm   \n",
              "2  829196631920766977         NaN  Twitter for Android        czarnylks   \n",
              "3  829196591441534976         NaN   Twitter for iPhone  KennethECollins   \n",
              "4  829196553558622210         NaN   Twitter for iPhone   Shanaynay_fuck   \n",
              "\n",
              "   retweetCount  isRetweet  retweeted  longitude  latitude  \n",
              "0             0      False      False        NaN       NaN  \n",
              "1             0      False      False        NaN       NaN  \n",
              "2           481       True      False        NaN       NaN  \n",
              "3             0      False      False        NaN       NaN  \n",
              "4          1836       True      False        NaN       NaN  "
            ],
            "text/html": [
              "\n",
              "  <div id=\"df-15277e57-c162-41f3-a5e6-b799f1aa7e43\">\n",
              "    <div class=\"colab-df-container\">\n",
              "      <div>\n",
              "<style scoped>\n",
              "    .dataframe tbody tr th:only-of-type {\n",
              "        vertical-align: middle;\n",
              "    }\n",
              "\n",
              "    .dataframe tbody tr th {\n",
              "        vertical-align: top;\n",
              "    }\n",
              "\n",
              "    .dataframe thead th {\n",
              "        text-align: right;\n",
              "    }\n",
              "</style>\n",
              "<table border=\"1\" class=\"dataframe\">\n",
              "  <thead>\n",
              "    <tr style=\"text-align: right;\">\n",
              "      <th></th>\n",
              "      <th>Unnamed: 0</th>\n",
              "      <th>text</th>\n",
              "      <th>favorited</th>\n",
              "      <th>favoriteCount</th>\n",
              "      <th>replyToSN</th>\n",
              "      <th>created</th>\n",
              "      <th>truncated</th>\n",
              "      <th>replyToSID</th>\n",
              "      <th>id</th>\n",
              "      <th>replyToUID</th>\n",
              "      <th>statusSource</th>\n",
              "      <th>screenName</th>\n",
              "      <th>retweetCount</th>\n",
              "      <th>isRetweet</th>\n",
              "      <th>retweeted</th>\n",
              "      <th>longitude</th>\n",
              "      <th>latitude</th>\n",
              "    </tr>\n",
              "  </thead>\n",
              "  <tbody>\n",
              "    <tr>\n",
              "      <th>0</th>\n",
              "      <td>1</td>\n",
              "      <td>So far, I think 2017 has been the year of the ...</td>\n",
              "      <td>False</td>\n",
              "      <td>0</td>\n",
              "      <td>NaN</td>\n",
              "      <td>2017-02-08 05:14:24</td>\n",
              "      <td>False</td>\n",
              "      <td>NaN</td>\n",
              "      <td>829196660546949120</td>\n",
              "      <td>NaN</td>\n",
              "      <td>TweetDeck</td>\n",
              "      <td>KubeJ9</td>\n",
              "      <td>0</td>\n",
              "      <td>False</td>\n",
              "      <td>False</td>\n",
              "      <td>NaN</td>\n",
              "      <td>NaN</td>\n",
              "    </tr>\n",
              "    <tr>\n",
              "      <th>1</th>\n",
              "      <td>2</td>\n",
              "      <td>I'm attending a @theactionnet event: Stanislau...</td>\n",
              "      <td>False</td>\n",
              "      <td>0</td>\n",
              "      <td>NaN</td>\n",
              "      <td>2017-02-08 05:14:18</td>\n",
              "      <td>False</td>\n",
              "      <td>NaN</td>\n",
              "      <td>829196636396072960</td>\n",
              "      <td>NaN</td>\n",
              "      <td>Twitter Web Client</td>\n",
              "      <td>AnnStrahm</td>\n",
              "      <td>0</td>\n",
              "      <td>False</td>\n",
              "      <td>False</td>\n",
              "      <td>NaN</td>\n",
              "      <td>NaN</td>\n",
              "    </tr>\n",
              "    <tr>\n",
              "      <th>2</th>\n",
              "      <td>3</td>\n",
              "      <td>RT @AmyMek: Meanwhile In Washington State... (...</td>\n",
              "      <td>False</td>\n",
              "      <td>0</td>\n",
              "      <td>NaN</td>\n",
              "      <td>2017-02-08 05:14:17</td>\n",
              "      <td>False</td>\n",
              "      <td>NaN</td>\n",
              "      <td>829196631920766977</td>\n",
              "      <td>NaN</td>\n",
              "      <td>Twitter for Android</td>\n",
              "      <td>czarnylks</td>\n",
              "      <td>481</td>\n",
              "      <td>True</td>\n",
              "      <td>False</td>\n",
              "      <td>NaN</td>\n",
              "      <td>NaN</td>\n",
              "    </tr>\n",
              "    <tr>\n",
              "      <th>3</th>\n",
              "      <td>4</td>\n",
              "      <td>Bet #womensmarch co-founder , l sarsour has lo...</td>\n",
              "      <td>False</td>\n",
              "      <td>0</td>\n",
              "      <td>NaN</td>\n",
              "      <td>2017-02-08 05:14:07</td>\n",
              "      <td>True</td>\n",
              "      <td>NaN</td>\n",
              "      <td>829196591441534976</td>\n",
              "      <td>NaN</td>\n",
              "      <td>Twitter for iPhone</td>\n",
              "      <td>KennethECollins</td>\n",
              "      <td>0</td>\n",
              "      <td>False</td>\n",
              "      <td>False</td>\n",
              "      <td>NaN</td>\n",
              "      <td>NaN</td>\n",
              "    </tr>\n",
              "    <tr>\n",
              "      <th>4</th>\n",
              "      <td>5</td>\n",
              "      <td>RT @yashar: WATCH: In her first video statemen...</td>\n",
              "      <td>False</td>\n",
              "      <td>0</td>\n",
              "      <td>NaN</td>\n",
              "      <td>2017-02-08 05:13:58</td>\n",
              "      <td>False</td>\n",
              "      <td>NaN</td>\n",
              "      <td>829196553558622210</td>\n",
              "      <td>NaN</td>\n",
              "      <td>Twitter for iPhone</td>\n",
              "      <td>Shanaynay_fuck</td>\n",
              "      <td>1836</td>\n",
              "      <td>True</td>\n",
              "      <td>False</td>\n",
              "      <td>NaN</td>\n",
              "      <td>NaN</td>\n",
              "    </tr>\n",
              "  </tbody>\n",
              "</table>\n",
              "</div>\n",
              "      <button class=\"colab-df-convert\" onclick=\"convertToInteractive('df-15277e57-c162-41f3-a5e6-b799f1aa7e43')\"\n",
              "              title=\"Convert this dataframe to an interactive table.\"\n",
              "              style=\"display:none;\">\n",
              "        \n",
              "  <svg xmlns=\"http://www.w3.org/2000/svg\" height=\"24px\"viewBox=\"0 0 24 24\"\n",
              "       width=\"24px\">\n",
              "    <path d=\"M0 0h24v24H0V0z\" fill=\"none\"/>\n",
              "    <path d=\"M18.56 5.44l.94 2.06.94-2.06 2.06-.94-2.06-.94-.94-2.06-.94 2.06-2.06.94zm-11 1L8.5 8.5l.94-2.06 2.06-.94-2.06-.94L8.5 2.5l-.94 2.06-2.06.94zm10 10l.94 2.06.94-2.06 2.06-.94-2.06-.94-.94-2.06-.94 2.06-2.06.94z\"/><path d=\"M17.41 7.96l-1.37-1.37c-.4-.4-.92-.59-1.43-.59-.52 0-1.04.2-1.43.59L10.3 9.45l-7.72 7.72c-.78.78-.78 2.05 0 2.83L4 21.41c.39.39.9.59 1.41.59.51 0 1.02-.2 1.41-.59l7.78-7.78 2.81-2.81c.8-.78.8-2.07 0-2.86zM5.41 20L4 18.59l7.72-7.72 1.47 1.35L5.41 20z\"/>\n",
              "  </svg>\n",
              "      </button>\n",
              "      \n",
              "  <style>\n",
              "    .colab-df-container {\n",
              "      display:flex;\n",
              "      flex-wrap:wrap;\n",
              "      gap: 12px;\n",
              "    }\n",
              "\n",
              "    .colab-df-convert {\n",
              "      background-color: #E8F0FE;\n",
              "      border: none;\n",
              "      border-radius: 50%;\n",
              "      cursor: pointer;\n",
              "      display: none;\n",
              "      fill: #1967D2;\n",
              "      height: 32px;\n",
              "      padding: 0 0 0 0;\n",
              "      width: 32px;\n",
              "    }\n",
              "\n",
              "    .colab-df-convert:hover {\n",
              "      background-color: #E2EBFA;\n",
              "      box-shadow: 0px 1px 2px rgba(60, 64, 67, 0.3), 0px 1px 3px 1px rgba(60, 64, 67, 0.15);\n",
              "      fill: #174EA6;\n",
              "    }\n",
              "\n",
              "    [theme=dark] .colab-df-convert {\n",
              "      background-color: #3B4455;\n",
              "      fill: #D2E3FC;\n",
              "    }\n",
              "\n",
              "    [theme=dark] .colab-df-convert:hover {\n",
              "      background-color: #434B5C;\n",
              "      box-shadow: 0px 1px 3px 1px rgba(0, 0, 0, 0.15);\n",
              "      filter: drop-shadow(0px 1px 2px rgba(0, 0, 0, 0.3));\n",
              "      fill: #FFFFFF;\n",
              "    }\n",
              "  </style>\n",
              "\n",
              "      <script>\n",
              "        const buttonEl =\n",
              "          document.querySelector('#df-15277e57-c162-41f3-a5e6-b799f1aa7e43 button.colab-df-convert');\n",
              "        buttonEl.style.display =\n",
              "          google.colab.kernel.accessAllowed ? 'block' : 'none';\n",
              "\n",
              "        async function convertToInteractive(key) {\n",
              "          const element = document.querySelector('#df-15277e57-c162-41f3-a5e6-b799f1aa7e43');\n",
              "          const dataTable =\n",
              "            await google.colab.kernel.invokeFunction('convertToInteractive',\n",
              "                                                     [key], {});\n",
              "          if (!dataTable) return;\n",
              "\n",
              "          const docLinkHtml = 'Like what you see? Visit the ' +\n",
              "            '<a target=\"_blank\" href=https://colab.research.google.com/notebooks/data_table.ipynb>data table notebook</a>'\n",
              "            + ' to learn more about interactive tables.';\n",
              "          element.innerHTML = '';\n",
              "          dataTable['output_type'] = 'display_data';\n",
              "          await google.colab.output.renderOutput(dataTable, element);\n",
              "          const docLink = document.createElement('div');\n",
              "          docLink.innerHTML = docLinkHtml;\n",
              "          element.appendChild(docLink);\n",
              "        }\n",
              "      </script>\n",
              "    </div>\n",
              "  </div>\n",
              "  "
            ]
          },
          "metadata": {},
          "execution_count": 38
        }
      ]
    },
    {
      "cell_type": "code",
      "source": [
        "farmers = pd.read_csv(\"tweets.csv\",encoding='ISO-8859-1')\n",
        "farmers.head()"
      ],
      "metadata": {
        "colab": {
          "base_uri": "https://localhost:8080/",
          "height": 438
        },
        "id": "WE1XA_zX9eyI",
        "outputId": "3a02af93-dab5-4ec0-d620-38336b1a00b3"
      },
      "execution_count": 39,
      "outputs": [
        {
          "output_type": "execute_result",
          "data": {
            "text/plain": [
              "                                            tweetUrl  \\\n",
              "0  https://twitter.com/ShashiRajbhar6/status/1376...   \n",
              "1  https://twitter.com/kaursuk06272818/status/137...   \n",
              "2  https://twitter.com/kaursuk06272818/status/137...   \n",
              "3  https://twitter.com/SukhdevSingh_/status/13767...   \n",
              "4  https://twitter.com/Davidmu66668113/status/137...   \n",
              "\n",
              "                        date  \\\n",
              "0  2021-03-30 03:33:46+00:00   \n",
              "1  2021-03-30 03:33:23+00:00   \n",
              "2  2021-03-30 03:31:00+00:00   \n",
              "3  2021-03-30 03:30:45+00:00   \n",
              "4  2021-03-30 03:30:30+00:00   \n",
              "\n",
              "                                     renderedContent       tweetId  \\\n",
              "0                    Support ð\\n\\n#FarmersProtest  1.376739e+18   \n",
              "1  Supporting farmers means supporting our countr...  1.376739e+18   \n",
              "2  Support farmers if you are related to food #St...  1.376739e+18   \n",
              "3  #StopHateAgainstFarmers support #FarmersProtes...  1.376739e+18   \n",
              "4  You hate farmers I hate you, \\nif you love the...  1.376739e+18   \n",
              "\n",
              "         userId  replyCount  retweetCount  likeCount  quoteCount  \\\n",
              "0  1.015970e+18           0             0          0           0   \n",
              "1  1.332937e+18           0             0          0           0   \n",
              "2  1.332937e+18           0             0          0           0   \n",
              "3  1.308357e+18           0             1          3           0   \n",
              "4  1.357312e+18           0             0          1           0   \n",
              "\n",
              "                                              source  \\\n",
              "0  <a href=\"http://twitter.com/download/android\" ...   \n",
              "1  <a href=\"http://twitter.com/download/android\" ...   \n",
              "2  <a href=\"http://twitter.com/download/android\" ...   \n",
              "3  <a href=\"http://twitter.com/download/android\" ...   \n",
              "4  <a href=\"http://twitter.com/download/android\" ...   \n",
              "\n",
              "                                               media  retweetedTweet  \\\n",
              "0                                                NaN             NaN   \n",
              "1  [{'previewUrl': 'https://pbs.twimg.com/media/E...             NaN   \n",
              "2  [{'previewUrl': 'https://pbs.twimg.com/media/E...             NaN   \n",
              "3                                                NaN             NaN   \n",
              "4                                                NaN             NaN   \n",
              "\n",
              "  quotedTweet mentionedUsers  \n",
              "0         NaN            NaN  \n",
              "1         NaN            NaN  \n",
              "2         NaN            NaN  \n",
              "3         NaN            NaN  \n",
              "4         NaN            NaN  "
            ],
            "text/html": [
              "\n",
              "  <div id=\"df-11308268-db13-4c6c-8a0a-69f72e5d4045\">\n",
              "    <div class=\"colab-df-container\">\n",
              "      <div>\n",
              "<style scoped>\n",
              "    .dataframe tbody tr th:only-of-type {\n",
              "        vertical-align: middle;\n",
              "    }\n",
              "\n",
              "    .dataframe tbody tr th {\n",
              "        vertical-align: top;\n",
              "    }\n",
              "\n",
              "    .dataframe thead th {\n",
              "        text-align: right;\n",
              "    }\n",
              "</style>\n",
              "<table border=\"1\" class=\"dataframe\">\n",
              "  <thead>\n",
              "    <tr style=\"text-align: right;\">\n",
              "      <th></th>\n",
              "      <th>tweetUrl</th>\n",
              "      <th>date</th>\n",
              "      <th>renderedContent</th>\n",
              "      <th>tweetId</th>\n",
              "      <th>userId</th>\n",
              "      <th>replyCount</th>\n",
              "      <th>retweetCount</th>\n",
              "      <th>likeCount</th>\n",
              "      <th>quoteCount</th>\n",
              "      <th>source</th>\n",
              "      <th>media</th>\n",
              "      <th>retweetedTweet</th>\n",
              "      <th>quotedTweet</th>\n",
              "      <th>mentionedUsers</th>\n",
              "    </tr>\n",
              "  </thead>\n",
              "  <tbody>\n",
              "    <tr>\n",
              "      <th>0</th>\n",
              "      <td>https://twitter.com/ShashiRajbhar6/status/1376...</td>\n",
              "      <td>2021-03-30 03:33:46+00:00</td>\n",
              "      <td>Support ð\\n\\n#FarmersProtest</td>\n",
              "      <td>1.376739e+18</td>\n",
              "      <td>1.015970e+18</td>\n",
              "      <td>0</td>\n",
              "      <td>0</td>\n",
              "      <td>0</td>\n",
              "      <td>0</td>\n",
              "      <td>&lt;a href=\"http://twitter.com/download/android\" ...</td>\n",
              "      <td>NaN</td>\n",
              "      <td>NaN</td>\n",
              "      <td>NaN</td>\n",
              "      <td>NaN</td>\n",
              "    </tr>\n",
              "    <tr>\n",
              "      <th>1</th>\n",
              "      <td>https://twitter.com/kaursuk06272818/status/137...</td>\n",
              "      <td>2021-03-30 03:33:23+00:00</td>\n",
              "      <td>Supporting farmers means supporting our countr...</td>\n",
              "      <td>1.376739e+18</td>\n",
              "      <td>1.332937e+18</td>\n",
              "      <td>0</td>\n",
              "      <td>0</td>\n",
              "      <td>0</td>\n",
              "      <td>0</td>\n",
              "      <td>&lt;a href=\"http://twitter.com/download/android\" ...</td>\n",
              "      <td>[{'previewUrl': 'https://pbs.twimg.com/media/E...</td>\n",
              "      <td>NaN</td>\n",
              "      <td>NaN</td>\n",
              "      <td>NaN</td>\n",
              "    </tr>\n",
              "    <tr>\n",
              "      <th>2</th>\n",
              "      <td>https://twitter.com/kaursuk06272818/status/137...</td>\n",
              "      <td>2021-03-30 03:31:00+00:00</td>\n",
              "      <td>Support farmers if you are related to food #St...</td>\n",
              "      <td>1.376739e+18</td>\n",
              "      <td>1.332937e+18</td>\n",
              "      <td>0</td>\n",
              "      <td>0</td>\n",
              "      <td>0</td>\n",
              "      <td>0</td>\n",
              "      <td>&lt;a href=\"http://twitter.com/download/android\" ...</td>\n",
              "      <td>[{'previewUrl': 'https://pbs.twimg.com/media/E...</td>\n",
              "      <td>NaN</td>\n",
              "      <td>NaN</td>\n",
              "      <td>NaN</td>\n",
              "    </tr>\n",
              "    <tr>\n",
              "      <th>3</th>\n",
              "      <td>https://twitter.com/SukhdevSingh_/status/13767...</td>\n",
              "      <td>2021-03-30 03:30:45+00:00</td>\n",
              "      <td>#StopHateAgainstFarmers support #FarmersProtes...</td>\n",
              "      <td>1.376739e+18</td>\n",
              "      <td>1.308357e+18</td>\n",
              "      <td>0</td>\n",
              "      <td>1</td>\n",
              "      <td>3</td>\n",
              "      <td>0</td>\n",
              "      <td>&lt;a href=\"http://twitter.com/download/android\" ...</td>\n",
              "      <td>NaN</td>\n",
              "      <td>NaN</td>\n",
              "      <td>NaN</td>\n",
              "      <td>NaN</td>\n",
              "    </tr>\n",
              "    <tr>\n",
              "      <th>4</th>\n",
              "      <td>https://twitter.com/Davidmu66668113/status/137...</td>\n",
              "      <td>2021-03-30 03:30:30+00:00</td>\n",
              "      <td>You hate farmers I hate you, \\nif you love the...</td>\n",
              "      <td>1.376739e+18</td>\n",
              "      <td>1.357312e+18</td>\n",
              "      <td>0</td>\n",
              "      <td>0</td>\n",
              "      <td>1</td>\n",
              "      <td>0</td>\n",
              "      <td>&lt;a href=\"http://twitter.com/download/android\" ...</td>\n",
              "      <td>NaN</td>\n",
              "      <td>NaN</td>\n",
              "      <td>NaN</td>\n",
              "      <td>NaN</td>\n",
              "    </tr>\n",
              "  </tbody>\n",
              "</table>\n",
              "</div>\n",
              "      <button class=\"colab-df-convert\" onclick=\"convertToInteractive('df-11308268-db13-4c6c-8a0a-69f72e5d4045')\"\n",
              "              title=\"Convert this dataframe to an interactive table.\"\n",
              "              style=\"display:none;\">\n",
              "        \n",
              "  <svg xmlns=\"http://www.w3.org/2000/svg\" height=\"24px\"viewBox=\"0 0 24 24\"\n",
              "       width=\"24px\">\n",
              "    <path d=\"M0 0h24v24H0V0z\" fill=\"none\"/>\n",
              "    <path d=\"M18.56 5.44l.94 2.06.94-2.06 2.06-.94-2.06-.94-.94-2.06-.94 2.06-2.06.94zm-11 1L8.5 8.5l.94-2.06 2.06-.94-2.06-.94L8.5 2.5l-.94 2.06-2.06.94zm10 10l.94 2.06.94-2.06 2.06-.94-2.06-.94-.94-2.06-.94 2.06-2.06.94z\"/><path d=\"M17.41 7.96l-1.37-1.37c-.4-.4-.92-.59-1.43-.59-.52 0-1.04.2-1.43.59L10.3 9.45l-7.72 7.72c-.78.78-.78 2.05 0 2.83L4 21.41c.39.39.9.59 1.41.59.51 0 1.02-.2 1.41-.59l7.78-7.78 2.81-2.81c.8-.78.8-2.07 0-2.86zM5.41 20L4 18.59l7.72-7.72 1.47 1.35L5.41 20z\"/>\n",
              "  </svg>\n",
              "      </button>\n",
              "      \n",
              "  <style>\n",
              "    .colab-df-container {\n",
              "      display:flex;\n",
              "      flex-wrap:wrap;\n",
              "      gap: 12px;\n",
              "    }\n",
              "\n",
              "    .colab-df-convert {\n",
              "      background-color: #E8F0FE;\n",
              "      border: none;\n",
              "      border-radius: 50%;\n",
              "      cursor: pointer;\n",
              "      display: none;\n",
              "      fill: #1967D2;\n",
              "      height: 32px;\n",
              "      padding: 0 0 0 0;\n",
              "      width: 32px;\n",
              "    }\n",
              "\n",
              "    .colab-df-convert:hover {\n",
              "      background-color: #E2EBFA;\n",
              "      box-shadow: 0px 1px 2px rgba(60, 64, 67, 0.3), 0px 1px 3px 1px rgba(60, 64, 67, 0.15);\n",
              "      fill: #174EA6;\n",
              "    }\n",
              "\n",
              "    [theme=dark] .colab-df-convert {\n",
              "      background-color: #3B4455;\n",
              "      fill: #D2E3FC;\n",
              "    }\n",
              "\n",
              "    [theme=dark] .colab-df-convert:hover {\n",
              "      background-color: #434B5C;\n",
              "      box-shadow: 0px 1px 3px 1px rgba(0, 0, 0, 0.15);\n",
              "      filter: drop-shadow(0px 1px 2px rgba(0, 0, 0, 0.3));\n",
              "      fill: #FFFFFF;\n",
              "    }\n",
              "  </style>\n",
              "\n",
              "      <script>\n",
              "        const buttonEl =\n",
              "          document.querySelector('#df-11308268-db13-4c6c-8a0a-69f72e5d4045 button.colab-df-convert');\n",
              "        buttonEl.style.display =\n",
              "          google.colab.kernel.accessAllowed ? 'block' : 'none';\n",
              "\n",
              "        async function convertToInteractive(key) {\n",
              "          const element = document.querySelector('#df-11308268-db13-4c6c-8a0a-69f72e5d4045');\n",
              "          const dataTable =\n",
              "            await google.colab.kernel.invokeFunction('convertToInteractive',\n",
              "                                                     [key], {});\n",
              "          if (!dataTable) return;\n",
              "\n",
              "          const docLinkHtml = 'Like what you see? Visit the ' +\n",
              "            '<a target=\"_blank\" href=https://colab.research.google.com/notebooks/data_table.ipynb>data table notebook</a>'\n",
              "            + ' to learn more about interactive tables.';\n",
              "          element.innerHTML = '';\n",
              "          dataTable['output_type'] = 'display_data';\n",
              "          await google.colab.output.renderOutput(dataTable, element);\n",
              "          const docLink = document.createElement('div');\n",
              "          docLink.innerHTML = docLinkHtml;\n",
              "          element.appendChild(docLink);\n",
              "        }\n",
              "      </script>\n",
              "    </div>\n",
              "  </div>\n",
              "  "
            ]
          },
          "metadata": {},
          "execution_count": 39
        }
      ]
    },
    {
      "cell_type": "markdown",
      "source": [
        "Let's convert them to dictionaries."
      ],
      "metadata": {
        "id": "gRTfiA42eYho"
      }
    },
    {
      "cell_type": "code",
      "source": [
        "womenmarch = womenmarch.to_dict()"
      ],
      "metadata": {
        "id": "qKE1R706FmoL"
      },
      "execution_count": 40,
      "outputs": []
    },
    {
      "cell_type": "code",
      "source": [
        "print(womenmarch.keys())"
      ],
      "metadata": {
        "colab": {
          "base_uri": "https://localhost:8080/"
        },
        "id": "-LtvHY3ECyRK",
        "outputId": "ef3c04a4-4f14-4966-9b93-e4183f6ae1da"
      },
      "execution_count": 41,
      "outputs": [
        {
          "output_type": "stream",
          "name": "stdout",
          "text": [
            "dict_keys(['Unnamed: 0', 'text', 'favorited', 'favoriteCount', 'replyToSN', 'created', 'truncated', 'replyToSID', 'id', 'replyToUID', 'statusSource', 'screenName', 'retweetCount', 'isRetweet', 'retweeted', 'longitude', 'latitude'])\n"
          ]
        }
      ]
    },
    {
      "cell_type": "code",
      "source": [
        "farmers = farmers.to_dict()"
      ],
      "metadata": {
        "id": "-t6rK5bdh4Ul"
      },
      "execution_count": 42,
      "outputs": []
    },
    {
      "cell_type": "code",
      "source": [
        "print(farmers.keys())"
      ],
      "metadata": {
        "colab": {
          "base_uri": "https://localhost:8080/"
        },
        "id": "o94I8Lgqh6yE",
        "outputId": "88b287a8-2a21-4118-fcb1-90c5051cc083"
      },
      "execution_count": 43,
      "outputs": [
        {
          "output_type": "stream",
          "name": "stdout",
          "text": [
            "dict_keys(['tweetUrl', 'date', 'renderedContent', 'tweetId', 'userId', 'replyCount', 'retweetCount', 'likeCount', 'quoteCount', 'source', 'media', 'retweetedTweet', 'quotedTweet', 'mentionedUsers'])\n"
          ]
        }
      ]
    },
    {
      "cell_type": "code",
      "source": [
        "for col in womenmarch:\n",
        "  womenmarch[col] = list(womenmarch[col].values())"
      ],
      "metadata": {
        "id": "eBw_AeWNmeGG"
      },
      "execution_count": 44,
      "outputs": []
    },
    {
      "cell_type": "code",
      "source": [
        "for col in farmers:\n",
        "  farmers[col] = list(farmers[col].values())"
      ],
      "metadata": {
        "id": "I61tVeEisagd"
      },
      "execution_count": 45,
      "outputs": []
    },
    {
      "cell_type": "markdown",
      "source": [
        "Now, we'll convert them to Dataset objects."
      ],
      "metadata": {
        "id": "3VZdQ9YFnAPv"
      }
    },
    {
      "cell_type": "code",
      "source": [
        "! pip install transformers datasets"
      ],
      "metadata": {
        "id": "_APANhSQBuOn"
      },
      "execution_count": null,
      "outputs": []
    },
    {
      "cell_type": "code",
      "source": [
        "from datasets import Dataset\n",
        "\n",
        "womenmarch = Dataset.from_pandas(pd.DataFrame(data=womenmarch))\n",
        "farmers = Dataset.from_pandas(pd.DataFrame(data=farmers))"
      ],
      "metadata": {
        "id": "vfm7PzfihWbB"
      },
      "execution_count": 47,
      "outputs": []
    },
    {
      "cell_type": "code",
      "source": [
        "print(womenmarch[\"text\"][0])"
      ],
      "metadata": {
        "colab": {
          "base_uri": "https://localhost:8080/"
        },
        "id": "G0YL24EpvIz4",
        "outputId": "55b26130-e08a-4fe5-aadd-8623d3dd0f89"
      },
      "execution_count": 48,
      "outputs": [
        {
          "output_type": "stream",
          "name": "stdout",
          "text": [
            "So far, I think 2017 has been the year of the women. #letlizspeak #SallyYates #WomensMarch #melissamccarthy\n"
          ]
        }
      ]
    },
    {
      "cell_type": "code",
      "source": [
        "print(farmers[\"renderedContent\"][0])"
      ],
      "metadata": {
        "colab": {
          "base_uri": "https://localhost:8080/"
        },
        "id": "LiQ82LiDvLOS",
        "outputId": "2cb04a82-2c9e-4efe-a08c-440143c4bc4b"
      },
      "execution_count": 49,
      "outputs": [
        {
          "output_type": "stream",
          "name": "stdout",
          "text": [
            "Support ð\n",
            "\n",
            "#FarmersProtest\n"
          ]
        }
      ]
    },
    {
      "cell_type": "markdown",
      "source": [
        "Great! Now, we can move on to the next step: fine-tuning our models."
      ],
      "metadata": {
        "id": "NI_AdThZvCQV"
      }
    }
  ]
}
