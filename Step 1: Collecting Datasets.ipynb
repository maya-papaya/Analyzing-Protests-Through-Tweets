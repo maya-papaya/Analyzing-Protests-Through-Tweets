{
  "cells": [
    {
      "cell_type": "markdown",
      "metadata": {
        "id": "xpUHEkl2gS_V"
      },
      "source": [
        "# Step 1: Collecting Datasets\n",
        "\n",
        "First, I need to collect all of my necessary datasets.\n",
        "\n",
        "For this project, I am going to be using these datasets (sourced from Kaggle):\n",
        "\n",
        "\n",
        "\n",
        "*   WomensMarch Tag Tweets (https://www.kaggle.com/datasets/adhok93/inauguration-and-womensmarch-tweets)\n",
        "*   2020–2021 Indian farmers' protest (https://www.kaggle.com/datasets/prathamsharma123/farmers-protest-tweets-dataset-csv)\n",
        "\n"
      ]
    },
    {
      "cell_type": "code",
      "execution_count": null,
      "metadata": {
        "id": "X70f532TKv8G"
      },
      "outputs": [],
      "source": [
        "from google.colab import drive\n",
        "drive.mount('/content/drive')"
      ]
    },
    {
      "cell_type": "code",
      "execution_count": null,
      "metadata": {
        "id": "Th1VsRaX5RYR"
      },
      "outputs": [],
      "source": [
        "! pip install kaggle"
      ]
    },
    {
      "cell_type": "code",
      "execution_count": null,
      "metadata": {
        "id": "3p1IYyhU5SRB"
      },
      "outputs": [],
      "source": [
        "! mkdir ~/.kaggle"
      ]
    },
    {
      "cell_type": "code",
      "execution_count": null,
      "metadata": {
        "id": "QNWVWPbj5Suh"
      },
      "outputs": [],
      "source": [
        "! cp /content/drive/MyDrive/kaggle.json ~/.kaggle/kaggle.json"
      ]
    },
    {
      "cell_type": "code",
      "execution_count": null,
      "metadata": {
        "id": "aB49myRM5bUZ"
      },
      "outputs": [],
      "source": [
        "! kaggle datasets download adhok93/inauguration-and-womensmarch-tweets"
      ]
    },
    {
      "cell_type": "code",
      "execution_count": null,
      "metadata": {
        "id": "P2qCB5z579TJ"
      },
      "outputs": [],
      "source": [
        "!unzip inauguration-and-womensmarch-tweets.zip"
      ]
    },
    {
      "cell_type": "code",
      "execution_count": null,
      "metadata": {
        "id": "nlC3BIEH7eIb"
      },
      "outputs": [],
      "source": [
        "! kaggle datasets download prathamsharma123/farmers-protest-tweets-dataset-csv"
      ]
    },
    {
      "cell_type": "code",
      "execution_count": null,
      "metadata": {
        "id": "UjWpr2jP8BlE"
      },
      "outputs": [],
      "source": [
        "!unzip farmers-protest-tweets-dataset-csv.zip"
      ]
    },
    {
      "cell_type": "markdown",
      "metadata": {
        "id": "NhT18Uc6841B"
      },
      "source": [
        "Now that we've uploaded the two datasets to this Colab Notebook, let's take a look at what they look like:"
      ]
    },
    {
      "cell_type": "code",
      "execution_count": 10,
      "metadata": {
        "colab": {
          "base_uri": "https://localhost:8080/",
          "height": 557
        },
        "id": "Zk-qRNil7qUK",
        "outputId": "b8e7b9d4-1016-415b-8b95-812112e614d0"
      },
      "outputs": [
        {
          "output_type": "execute_result",
          "data": {
            "text/plain": [
              "   Unnamed: 0                                               text  favorited  \\\n",
              "0           1  So far, I think 2017 has been the year of the ...      False   \n",
              "1           2  I'm attending a @theactionnet event: Stanislau...      False   \n",
              "2           3  RT @AmyMek: Meanwhile In Washington State... (...      False   \n",
              "3           4  Bet #womensmarch co-founder , l sarsour has lo...      False   \n",
              "4           5  RT @yashar: WATCH: In her first video statemen...      False   \n",
              "\n",
              "   favoriteCount replyToSN              created  truncated  replyToSID  \\\n",
              "0              0       NaN  2017-02-08 05:14:24      False         NaN   \n",
              "1              0       NaN  2017-02-08 05:14:18      False         NaN   \n",
              "2              0       NaN  2017-02-08 05:14:17      False         NaN   \n",
              "3              0       NaN  2017-02-08 05:14:07       True         NaN   \n",
              "4              0       NaN  2017-02-08 05:13:58      False         NaN   \n",
              "\n",
              "                   id  replyToUID         statusSource       screenName  \\\n",
              "0  829196660546949120         NaN            TweetDeck           KubeJ9   \n",
              "1  829196636396072960         NaN   Twitter Web Client        AnnStrahm   \n",
              "2  829196631920766977         NaN  Twitter for Android        czarnylks   \n",
              "3  829196591441534976         NaN   Twitter for iPhone  KennethECollins   \n",
              "4  829196553558622210         NaN   Twitter for iPhone   Shanaynay_fuck   \n",
              "\n",
              "   retweetCount  isRetweet  retweeted  longitude  latitude  \n",
              "0             0      False      False        NaN       NaN  \n",
              "1             0      False      False        NaN       NaN  \n",
              "2           481       True      False        NaN       NaN  \n",
              "3             0      False      False        NaN       NaN  \n",
              "4          1836       True      False        NaN       NaN  "
            ],
            "text/html": [
              "\n",
              "\n",
              "  <div id=\"df-772ba599-4c43-41ef-b9f7-ab4ac9a647b9\">\n",
              "    <div class=\"colab-df-container\">\n",
              "      <div>\n",
              "<style scoped>\n",
              "    .dataframe tbody tr th:only-of-type {\n",
              "        vertical-align: middle;\n",
              "    }\n",
              "\n",
              "    .dataframe tbody tr th {\n",
              "        vertical-align: top;\n",
              "    }\n",
              "\n",
              "    .dataframe thead th {\n",
              "        text-align: right;\n",
              "    }\n",
              "</style>\n",
              "<table border=\"1\" class=\"dataframe\">\n",
              "  <thead>\n",
              "    <tr style=\"text-align: right;\">\n",
              "      <th></th>\n",
              "      <th>Unnamed: 0</th>\n",
              "      <th>text</th>\n",
              "      <th>favorited</th>\n",
              "      <th>favoriteCount</th>\n",
              "      <th>replyToSN</th>\n",
              "      <th>created</th>\n",
              "      <th>truncated</th>\n",
              "      <th>replyToSID</th>\n",
              "      <th>id</th>\n",
              "      <th>replyToUID</th>\n",
              "      <th>statusSource</th>\n",
              "      <th>screenName</th>\n",
              "      <th>retweetCount</th>\n",
              "      <th>isRetweet</th>\n",
              "      <th>retweeted</th>\n",
              "      <th>longitude</th>\n",
              "      <th>latitude</th>\n",
              "    </tr>\n",
              "  </thead>\n",
              "  <tbody>\n",
              "    <tr>\n",
              "      <th>0</th>\n",
              "      <td>1</td>\n",
              "      <td>So far, I think 2017 has been the year of the ...</td>\n",
              "      <td>False</td>\n",
              "      <td>0</td>\n",
              "      <td>NaN</td>\n",
              "      <td>2017-02-08 05:14:24</td>\n",
              "      <td>False</td>\n",
              "      <td>NaN</td>\n",
              "      <td>829196660546949120</td>\n",
              "      <td>NaN</td>\n",
              "      <td>TweetDeck</td>\n",
              "      <td>KubeJ9</td>\n",
              "      <td>0</td>\n",
              "      <td>False</td>\n",
              "      <td>False</td>\n",
              "      <td>NaN</td>\n",
              "      <td>NaN</td>\n",
              "    </tr>\n",
              "    <tr>\n",
              "      <th>1</th>\n",
              "      <td>2</td>\n",
              "      <td>I'm attending a @theactionnet event: Stanislau...</td>\n",
              "      <td>False</td>\n",
              "      <td>0</td>\n",
              "      <td>NaN</td>\n",
              "      <td>2017-02-08 05:14:18</td>\n",
              "      <td>False</td>\n",
              "      <td>NaN</td>\n",
              "      <td>829196636396072960</td>\n",
              "      <td>NaN</td>\n",
              "      <td>Twitter Web Client</td>\n",
              "      <td>AnnStrahm</td>\n",
              "      <td>0</td>\n",
              "      <td>False</td>\n",
              "      <td>False</td>\n",
              "      <td>NaN</td>\n",
              "      <td>NaN</td>\n",
              "    </tr>\n",
              "    <tr>\n",
              "      <th>2</th>\n",
              "      <td>3</td>\n",
              "      <td>RT @AmyMek: Meanwhile In Washington State... (...</td>\n",
              "      <td>False</td>\n",
              "      <td>0</td>\n",
              "      <td>NaN</td>\n",
              "      <td>2017-02-08 05:14:17</td>\n",
              "      <td>False</td>\n",
              "      <td>NaN</td>\n",
              "      <td>829196631920766977</td>\n",
              "      <td>NaN</td>\n",
              "      <td>Twitter for Android</td>\n",
              "      <td>czarnylks</td>\n",
              "      <td>481</td>\n",
              "      <td>True</td>\n",
              "      <td>False</td>\n",
              "      <td>NaN</td>\n",
              "      <td>NaN</td>\n",
              "    </tr>\n",
              "    <tr>\n",
              "      <th>3</th>\n",
              "      <td>4</td>\n",
              "      <td>Bet #womensmarch co-founder , l sarsour has lo...</td>\n",
              "      <td>False</td>\n",
              "      <td>0</td>\n",
              "      <td>NaN</td>\n",
              "      <td>2017-02-08 05:14:07</td>\n",
              "      <td>True</td>\n",
              "      <td>NaN</td>\n",
              "      <td>829196591441534976</td>\n",
              "      <td>NaN</td>\n",
              "      <td>Twitter for iPhone</td>\n",
              "      <td>KennethECollins</td>\n",
              "      <td>0</td>\n",
              "      <td>False</td>\n",
              "      <td>False</td>\n",
              "      <td>NaN</td>\n",
              "      <td>NaN</td>\n",
              "    </tr>\n",
              "    <tr>\n",
              "      <th>4</th>\n",
              "      <td>5</td>\n",
              "      <td>RT @yashar: WATCH: In her first video statemen...</td>\n",
              "      <td>False</td>\n",
              "      <td>0</td>\n",
              "      <td>NaN</td>\n",
              "      <td>2017-02-08 05:13:58</td>\n",
              "      <td>False</td>\n",
              "      <td>NaN</td>\n",
              "      <td>829196553558622210</td>\n",
              "      <td>NaN</td>\n",
              "      <td>Twitter for iPhone</td>\n",
              "      <td>Shanaynay_fuck</td>\n",
              "      <td>1836</td>\n",
              "      <td>True</td>\n",
              "      <td>False</td>\n",
              "      <td>NaN</td>\n",
              "      <td>NaN</td>\n",
              "    </tr>\n",
              "  </tbody>\n",
              "</table>\n",
              "</div>\n",
              "      <button class=\"colab-df-convert\" onclick=\"convertToInteractive('df-772ba599-4c43-41ef-b9f7-ab4ac9a647b9')\"\n",
              "              title=\"Convert this dataframe to an interactive table.\"\n",
              "              style=\"display:none;\">\n",
              "\n",
              "  <svg xmlns=\"http://www.w3.org/2000/svg\" height=\"24px\"viewBox=\"0 0 24 24\"\n",
              "       width=\"24px\">\n",
              "    <path d=\"M0 0h24v24H0V0z\" fill=\"none\"/>\n",
              "    <path d=\"M18.56 5.44l.94 2.06.94-2.06 2.06-.94-2.06-.94-.94-2.06-.94 2.06-2.06.94zm-11 1L8.5 8.5l.94-2.06 2.06-.94-2.06-.94L8.5 2.5l-.94 2.06-2.06.94zm10 10l.94 2.06.94-2.06 2.06-.94-2.06-.94-.94-2.06-.94 2.06-2.06.94z\"/><path d=\"M17.41 7.96l-1.37-1.37c-.4-.4-.92-.59-1.43-.59-.52 0-1.04.2-1.43.59L10.3 9.45l-7.72 7.72c-.78.78-.78 2.05 0 2.83L4 21.41c.39.39.9.59 1.41.59.51 0 1.02-.2 1.41-.59l7.78-7.78 2.81-2.81c.8-.78.8-2.07 0-2.86zM5.41 20L4 18.59l7.72-7.72 1.47 1.35L5.41 20z\"/>\n",
              "  </svg>\n",
              "      </button>\n",
              "\n",
              "\n",
              "\n",
              "    <div id=\"df-10c430a1-a6e7-4802-b868-1549d2194000\">\n",
              "      <button class=\"colab-df-quickchart\" onclick=\"quickchart('df-10c430a1-a6e7-4802-b868-1549d2194000')\"\n",
              "              title=\"Suggest charts.\"\n",
              "              style=\"display:none;\">\n",
              "\n",
              "<svg xmlns=\"http://www.w3.org/2000/svg\" height=\"24px\"viewBox=\"0 0 24 24\"\n",
              "     width=\"24px\">\n",
              "    <g>\n",
              "        <path d=\"M19 3H5c-1.1 0-2 .9-2 2v14c0 1.1.9 2 2 2h14c1.1 0 2-.9 2-2V5c0-1.1-.9-2-2-2zM9 17H7v-7h2v7zm4 0h-2V7h2v10zm4 0h-2v-4h2v4z\"/>\n",
              "    </g>\n",
              "</svg>\n",
              "      </button>\n",
              "    </div>\n",
              "\n",
              "<style>\n",
              "  .colab-df-quickchart {\n",
              "    background-color: #E8F0FE;\n",
              "    border: none;\n",
              "    border-radius: 50%;\n",
              "    cursor: pointer;\n",
              "    display: none;\n",
              "    fill: #1967D2;\n",
              "    height: 32px;\n",
              "    padding: 0 0 0 0;\n",
              "    width: 32px;\n",
              "  }\n",
              "\n",
              "  .colab-df-quickchart:hover {\n",
              "    background-color: #E2EBFA;\n",
              "    box-shadow: 0px 1px 2px rgba(60, 64, 67, 0.3), 0px 1px 3px 1px rgba(60, 64, 67, 0.15);\n",
              "    fill: #174EA6;\n",
              "  }\n",
              "\n",
              "  [theme=dark] .colab-df-quickchart {\n",
              "    background-color: #3B4455;\n",
              "    fill: #D2E3FC;\n",
              "  }\n",
              "\n",
              "  [theme=dark] .colab-df-quickchart:hover {\n",
              "    background-color: #434B5C;\n",
              "    box-shadow: 0px 1px 3px 1px rgba(0, 0, 0, 0.15);\n",
              "    filter: drop-shadow(0px 1px 2px rgba(0, 0, 0, 0.3));\n",
              "    fill: #FFFFFF;\n",
              "  }\n",
              "</style>\n",
              "\n",
              "    <script>\n",
              "      async function quickchart(key) {\n",
              "        const containerElement = document.querySelector('#' + key);\n",
              "        const charts = await google.colab.kernel.invokeFunction(\n",
              "            'suggestCharts', [key], {});\n",
              "      }\n",
              "    </script>\n",
              "\n",
              "      <script>\n",
              "\n",
              "function displayQuickchartButton(domScope) {\n",
              "  let quickchartButtonEl =\n",
              "    domScope.querySelector('#df-10c430a1-a6e7-4802-b868-1549d2194000 button.colab-df-quickchart');\n",
              "  quickchartButtonEl.style.display =\n",
              "    google.colab.kernel.accessAllowed ? 'block' : 'none';\n",
              "}\n",
              "\n",
              "        displayQuickchartButton(document);\n",
              "      </script>\n",
              "      <style>\n",
              "    .colab-df-container {\n",
              "      display:flex;\n",
              "      flex-wrap:wrap;\n",
              "      gap: 12px;\n",
              "    }\n",
              "\n",
              "    .colab-df-convert {\n",
              "      background-color: #E8F0FE;\n",
              "      border: none;\n",
              "      border-radius: 50%;\n",
              "      cursor: pointer;\n",
              "      display: none;\n",
              "      fill: #1967D2;\n",
              "      height: 32px;\n",
              "      padding: 0 0 0 0;\n",
              "      width: 32px;\n",
              "    }\n",
              "\n",
              "    .colab-df-convert:hover {\n",
              "      background-color: #E2EBFA;\n",
              "      box-shadow: 0px 1px 2px rgba(60, 64, 67, 0.3), 0px 1px 3px 1px rgba(60, 64, 67, 0.15);\n",
              "      fill: #174EA6;\n",
              "    }\n",
              "\n",
              "    [theme=dark] .colab-df-convert {\n",
              "      background-color: #3B4455;\n",
              "      fill: #D2E3FC;\n",
              "    }\n",
              "\n",
              "    [theme=dark] .colab-df-convert:hover {\n",
              "      background-color: #434B5C;\n",
              "      box-shadow: 0px 1px 3px 1px rgba(0, 0, 0, 0.15);\n",
              "      filter: drop-shadow(0px 1px 2px rgba(0, 0, 0, 0.3));\n",
              "      fill: #FFFFFF;\n",
              "    }\n",
              "  </style>\n",
              "\n",
              "      <script>\n",
              "        const buttonEl =\n",
              "          document.querySelector('#df-772ba599-4c43-41ef-b9f7-ab4ac9a647b9 button.colab-df-convert');\n",
              "        buttonEl.style.display =\n",
              "          google.colab.kernel.accessAllowed ? 'block' : 'none';\n",
              "\n",
              "        async function convertToInteractive(key) {\n",
              "          const element = document.querySelector('#df-772ba599-4c43-41ef-b9f7-ab4ac9a647b9');\n",
              "          const dataTable =\n",
              "            await google.colab.kernel.invokeFunction('convertToInteractive',\n",
              "                                                     [key], {});\n",
              "          if (!dataTable) return;\n",
              "\n",
              "          const docLinkHtml = 'Like what you see? Visit the ' +\n",
              "            '<a target=\"_blank\" href=https://colab.research.google.com/notebooks/data_table.ipynb>data table notebook</a>'\n",
              "            + ' to learn more about interactive tables.';\n",
              "          element.innerHTML = '';\n",
              "          dataTable['output_type'] = 'display_data';\n",
              "          await google.colab.output.renderOutput(dataTable, element);\n",
              "          const docLink = document.createElement('div');\n",
              "          docLink.innerHTML = docLinkHtml;\n",
              "          element.appendChild(docLink);\n",
              "        }\n",
              "      </script>\n",
              "    </div>\n",
              "  </div>\n"
            ]
          },
          "metadata": {},
          "execution_count": 10
        }
      ],
      "source": [
        "import pandas as pd\n",
        "\n",
        "womenmarch = pd.read_csv(\"womenmarch.csv\",encoding='ISO-8859-1')\n",
        "womenmarch.head()"
      ]
    },
    {
      "cell_type": "code",
      "execution_count": 11,
      "metadata": {
        "colab": {
          "base_uri": "https://localhost:8080/",
          "height": 438
        },
        "id": "WE1XA_zX9eyI",
        "outputId": "15cdaf7a-6031-4a03-dd78-e25e1983c551"
      },
      "outputs": [
        {
          "output_type": "execute_result",
          "data": {
            "text/plain": [
              "                                            tweetUrl  \\\n",
              "0  https://twitter.com/ShashiRajbhar6/status/1376...   \n",
              "1  https://twitter.com/kaursuk06272818/status/137...   \n",
              "2  https://twitter.com/kaursuk06272818/status/137...   \n",
              "3  https://twitter.com/SukhdevSingh_/status/13767...   \n",
              "4  https://twitter.com/Davidmu66668113/status/137...   \n",
              "\n",
              "                        date  \\\n",
              "0  2021-03-30 03:33:46+00:00   \n",
              "1  2021-03-30 03:33:23+00:00   \n",
              "2  2021-03-30 03:31:00+00:00   \n",
              "3  2021-03-30 03:30:45+00:00   \n",
              "4  2021-03-30 03:30:30+00:00   \n",
              "\n",
              "                                     renderedContent       tweetId  \\\n",
              "0                    Support ð\\n\\n#FarmersProtest  1.376739e+18   \n",
              "1  Supporting farmers means supporting our countr...  1.376739e+18   \n",
              "2  Support farmers if you are related to food #St...  1.376739e+18   \n",
              "3  #StopHateAgainstFarmers support #FarmersProtes...  1.376739e+18   \n",
              "4  You hate farmers I hate you, \\nif you love the...  1.376739e+18   \n",
              "\n",
              "         userId  replyCount  retweetCount  likeCount  quoteCount  \\\n",
              "0  1.015970e+18           0             0          0           0   \n",
              "1  1.332937e+18           0             0          0           0   \n",
              "2  1.332937e+18           0             0          0           0   \n",
              "3  1.308357e+18           0             1          3           0   \n",
              "4  1.357312e+18           0             0          1           0   \n",
              "\n",
              "                                              source  \\\n",
              "0  <a href=\"http://twitter.com/download/android\" ...   \n",
              "1  <a href=\"http://twitter.com/download/android\" ...   \n",
              "2  <a href=\"http://twitter.com/download/android\" ...   \n",
              "3  <a href=\"http://twitter.com/download/android\" ...   \n",
              "4  <a href=\"http://twitter.com/download/android\" ...   \n",
              "\n",
              "                                               media  retweetedTweet  \\\n",
              "0                                                NaN             NaN   \n",
              "1  [{'previewUrl': 'https://pbs.twimg.com/media/E...             NaN   \n",
              "2  [{'previewUrl': 'https://pbs.twimg.com/media/E...             NaN   \n",
              "3                                                NaN             NaN   \n",
              "4                                                NaN             NaN   \n",
              "\n",
              "  quotedTweet mentionedUsers  \n",
              "0         NaN            NaN  \n",
              "1         NaN            NaN  \n",
              "2         NaN            NaN  \n",
              "3         NaN            NaN  \n",
              "4         NaN            NaN  "
            ],
            "text/html": [
              "\n",
              "\n",
              "  <div id=\"df-a57cb6ee-3a91-4059-bf49-b2c783187179\">\n",
              "    <div class=\"colab-df-container\">\n",
              "      <div>\n",
              "<style scoped>\n",
              "    .dataframe tbody tr th:only-of-type {\n",
              "        vertical-align: middle;\n",
              "    }\n",
              "\n",
              "    .dataframe tbody tr th {\n",
              "        vertical-align: top;\n",
              "    }\n",
              "\n",
              "    .dataframe thead th {\n",
              "        text-align: right;\n",
              "    }\n",
              "</style>\n",
              "<table border=\"1\" class=\"dataframe\">\n",
              "  <thead>\n",
              "    <tr style=\"text-align: right;\">\n",
              "      <th></th>\n",
              "      <th>tweetUrl</th>\n",
              "      <th>date</th>\n",
              "      <th>renderedContent</th>\n",
              "      <th>tweetId</th>\n",
              "      <th>userId</th>\n",
              "      <th>replyCount</th>\n",
              "      <th>retweetCount</th>\n",
              "      <th>likeCount</th>\n",
              "      <th>quoteCount</th>\n",
              "      <th>source</th>\n",
              "      <th>media</th>\n",
              "      <th>retweetedTweet</th>\n",
              "      <th>quotedTweet</th>\n",
              "      <th>mentionedUsers</th>\n",
              "    </tr>\n",
              "  </thead>\n",
              "  <tbody>\n",
              "    <tr>\n",
              "      <th>0</th>\n",
              "      <td>https://twitter.com/ShashiRajbhar6/status/1376...</td>\n",
              "      <td>2021-03-30 03:33:46+00:00</td>\n",
              "      <td>Support ð\\n\\n#FarmersProtest</td>\n",
              "      <td>1.376739e+18</td>\n",
              "      <td>1.015970e+18</td>\n",
              "      <td>0</td>\n",
              "      <td>0</td>\n",
              "      <td>0</td>\n",
              "      <td>0</td>\n",
              "      <td>&lt;a href=\"http://twitter.com/download/android\" ...</td>\n",
              "      <td>NaN</td>\n",
              "      <td>NaN</td>\n",
              "      <td>NaN</td>\n",
              "      <td>NaN</td>\n",
              "    </tr>\n",
              "    <tr>\n",
              "      <th>1</th>\n",
              "      <td>https://twitter.com/kaursuk06272818/status/137...</td>\n",
              "      <td>2021-03-30 03:33:23+00:00</td>\n",
              "      <td>Supporting farmers means supporting our countr...</td>\n",
              "      <td>1.376739e+18</td>\n",
              "      <td>1.332937e+18</td>\n",
              "      <td>0</td>\n",
              "      <td>0</td>\n",
              "      <td>0</td>\n",
              "      <td>0</td>\n",
              "      <td>&lt;a href=\"http://twitter.com/download/android\" ...</td>\n",
              "      <td>[{'previewUrl': 'https://pbs.twimg.com/media/E...</td>\n",
              "      <td>NaN</td>\n",
              "      <td>NaN</td>\n",
              "      <td>NaN</td>\n",
              "    </tr>\n",
              "    <tr>\n",
              "      <th>2</th>\n",
              "      <td>https://twitter.com/kaursuk06272818/status/137...</td>\n",
              "      <td>2021-03-30 03:31:00+00:00</td>\n",
              "      <td>Support farmers if you are related to food #St...</td>\n",
              "      <td>1.376739e+18</td>\n",
              "      <td>1.332937e+18</td>\n",
              "      <td>0</td>\n",
              "      <td>0</td>\n",
              "      <td>0</td>\n",
              "      <td>0</td>\n",
              "      <td>&lt;a href=\"http://twitter.com/download/android\" ...</td>\n",
              "      <td>[{'previewUrl': 'https://pbs.twimg.com/media/E...</td>\n",
              "      <td>NaN</td>\n",
              "      <td>NaN</td>\n",
              "      <td>NaN</td>\n",
              "    </tr>\n",
              "    <tr>\n",
              "      <th>3</th>\n",
              "      <td>https://twitter.com/SukhdevSingh_/status/13767...</td>\n",
              "      <td>2021-03-30 03:30:45+00:00</td>\n",
              "      <td>#StopHateAgainstFarmers support #FarmersProtes...</td>\n",
              "      <td>1.376739e+18</td>\n",
              "      <td>1.308357e+18</td>\n",
              "      <td>0</td>\n",
              "      <td>1</td>\n",
              "      <td>3</td>\n",
              "      <td>0</td>\n",
              "      <td>&lt;a href=\"http://twitter.com/download/android\" ...</td>\n",
              "      <td>NaN</td>\n",
              "      <td>NaN</td>\n",
              "      <td>NaN</td>\n",
              "      <td>NaN</td>\n",
              "    </tr>\n",
              "    <tr>\n",
              "      <th>4</th>\n",
              "      <td>https://twitter.com/Davidmu66668113/status/137...</td>\n",
              "      <td>2021-03-30 03:30:30+00:00</td>\n",
              "      <td>You hate farmers I hate you, \\nif you love the...</td>\n",
              "      <td>1.376739e+18</td>\n",
              "      <td>1.357312e+18</td>\n",
              "      <td>0</td>\n",
              "      <td>0</td>\n",
              "      <td>1</td>\n",
              "      <td>0</td>\n",
              "      <td>&lt;a href=\"http://twitter.com/download/android\" ...</td>\n",
              "      <td>NaN</td>\n",
              "      <td>NaN</td>\n",
              "      <td>NaN</td>\n",
              "      <td>NaN</td>\n",
              "    </tr>\n",
              "  </tbody>\n",
              "</table>\n",
              "</div>\n",
              "      <button class=\"colab-df-convert\" onclick=\"convertToInteractive('df-a57cb6ee-3a91-4059-bf49-b2c783187179')\"\n",
              "              title=\"Convert this dataframe to an interactive table.\"\n",
              "              style=\"display:none;\">\n",
              "\n",
              "  <svg xmlns=\"http://www.w3.org/2000/svg\" height=\"24px\"viewBox=\"0 0 24 24\"\n",
              "       width=\"24px\">\n",
              "    <path d=\"M0 0h24v24H0V0z\" fill=\"none\"/>\n",
              "    <path d=\"M18.56 5.44l.94 2.06.94-2.06 2.06-.94-2.06-.94-.94-2.06-.94 2.06-2.06.94zm-11 1L8.5 8.5l.94-2.06 2.06-.94-2.06-.94L8.5 2.5l-.94 2.06-2.06.94zm10 10l.94 2.06.94-2.06 2.06-.94-2.06-.94-.94-2.06-.94 2.06-2.06.94z\"/><path d=\"M17.41 7.96l-1.37-1.37c-.4-.4-.92-.59-1.43-.59-.52 0-1.04.2-1.43.59L10.3 9.45l-7.72 7.72c-.78.78-.78 2.05 0 2.83L4 21.41c.39.39.9.59 1.41.59.51 0 1.02-.2 1.41-.59l7.78-7.78 2.81-2.81c.8-.78.8-2.07 0-2.86zM5.41 20L4 18.59l7.72-7.72 1.47 1.35L5.41 20z\"/>\n",
              "  </svg>\n",
              "      </button>\n",
              "\n",
              "\n",
              "\n",
              "    <div id=\"df-5ec43f47-f91d-40b6-aef2-83f7d024c2ad\">\n",
              "      <button class=\"colab-df-quickchart\" onclick=\"quickchart('df-5ec43f47-f91d-40b6-aef2-83f7d024c2ad')\"\n",
              "              title=\"Suggest charts.\"\n",
              "              style=\"display:none;\">\n",
              "\n",
              "<svg xmlns=\"http://www.w3.org/2000/svg\" height=\"24px\"viewBox=\"0 0 24 24\"\n",
              "     width=\"24px\">\n",
              "    <g>\n",
              "        <path d=\"M19 3H5c-1.1 0-2 .9-2 2v14c0 1.1.9 2 2 2h14c1.1 0 2-.9 2-2V5c0-1.1-.9-2-2-2zM9 17H7v-7h2v7zm4 0h-2V7h2v10zm4 0h-2v-4h2v4z\"/>\n",
              "    </g>\n",
              "</svg>\n",
              "      </button>\n",
              "    </div>\n",
              "\n",
              "<style>\n",
              "  .colab-df-quickchart {\n",
              "    background-color: #E8F0FE;\n",
              "    border: none;\n",
              "    border-radius: 50%;\n",
              "    cursor: pointer;\n",
              "    display: none;\n",
              "    fill: #1967D2;\n",
              "    height: 32px;\n",
              "    padding: 0 0 0 0;\n",
              "    width: 32px;\n",
              "  }\n",
              "\n",
              "  .colab-df-quickchart:hover {\n",
              "    background-color: #E2EBFA;\n",
              "    box-shadow: 0px 1px 2px rgba(60, 64, 67, 0.3), 0px 1px 3px 1px rgba(60, 64, 67, 0.15);\n",
              "    fill: #174EA6;\n",
              "  }\n",
              "\n",
              "  [theme=dark] .colab-df-quickchart {\n",
              "    background-color: #3B4455;\n",
              "    fill: #D2E3FC;\n",
              "  }\n",
              "\n",
              "  [theme=dark] .colab-df-quickchart:hover {\n",
              "    background-color: #434B5C;\n",
              "    box-shadow: 0px 1px 3px 1px rgba(0, 0, 0, 0.15);\n",
              "    filter: drop-shadow(0px 1px 2px rgba(0, 0, 0, 0.3));\n",
              "    fill: #FFFFFF;\n",
              "  }\n",
              "</style>\n",
              "\n",
              "    <script>\n",
              "      async function quickchart(key) {\n",
              "        const containerElement = document.querySelector('#' + key);\n",
              "        const charts = await google.colab.kernel.invokeFunction(\n",
              "            'suggestCharts', [key], {});\n",
              "      }\n",
              "    </script>\n",
              "\n",
              "      <script>\n",
              "\n",
              "function displayQuickchartButton(domScope) {\n",
              "  let quickchartButtonEl =\n",
              "    domScope.querySelector('#df-5ec43f47-f91d-40b6-aef2-83f7d024c2ad button.colab-df-quickchart');\n",
              "  quickchartButtonEl.style.display =\n",
              "    google.colab.kernel.accessAllowed ? 'block' : 'none';\n",
              "}\n",
              "\n",
              "        displayQuickchartButton(document);\n",
              "      </script>\n",
              "      <style>\n",
              "    .colab-df-container {\n",
              "      display:flex;\n",
              "      flex-wrap:wrap;\n",
              "      gap: 12px;\n",
              "    }\n",
              "\n",
              "    .colab-df-convert {\n",
              "      background-color: #E8F0FE;\n",
              "      border: none;\n",
              "      border-radius: 50%;\n",
              "      cursor: pointer;\n",
              "      display: none;\n",
              "      fill: #1967D2;\n",
              "      height: 32px;\n",
              "      padding: 0 0 0 0;\n",
              "      width: 32px;\n",
              "    }\n",
              "\n",
              "    .colab-df-convert:hover {\n",
              "      background-color: #E2EBFA;\n",
              "      box-shadow: 0px 1px 2px rgba(60, 64, 67, 0.3), 0px 1px 3px 1px rgba(60, 64, 67, 0.15);\n",
              "      fill: #174EA6;\n",
              "    }\n",
              "\n",
              "    [theme=dark] .colab-df-convert {\n",
              "      background-color: #3B4455;\n",
              "      fill: #D2E3FC;\n",
              "    }\n",
              "\n",
              "    [theme=dark] .colab-df-convert:hover {\n",
              "      background-color: #434B5C;\n",
              "      box-shadow: 0px 1px 3px 1px rgba(0, 0, 0, 0.15);\n",
              "      filter: drop-shadow(0px 1px 2px rgba(0, 0, 0, 0.3));\n",
              "      fill: #FFFFFF;\n",
              "    }\n",
              "  </style>\n",
              "\n",
              "      <script>\n",
              "        const buttonEl =\n",
              "          document.querySelector('#df-a57cb6ee-3a91-4059-bf49-b2c783187179 button.colab-df-convert');\n",
              "        buttonEl.style.display =\n",
              "          google.colab.kernel.accessAllowed ? 'block' : 'none';\n",
              "\n",
              "        async function convertToInteractive(key) {\n",
              "          const element = document.querySelector('#df-a57cb6ee-3a91-4059-bf49-b2c783187179');\n",
              "          const dataTable =\n",
              "            await google.colab.kernel.invokeFunction('convertToInteractive',\n",
              "                                                     [key], {});\n",
              "          if (!dataTable) return;\n",
              "\n",
              "          const docLinkHtml = 'Like what you see? Visit the ' +\n",
              "            '<a target=\"_blank\" href=https://colab.research.google.com/notebooks/data_table.ipynb>data table notebook</a>'\n",
              "            + ' to learn more about interactive tables.';\n",
              "          element.innerHTML = '';\n",
              "          dataTable['output_type'] = 'display_data';\n",
              "          await google.colab.output.renderOutput(dataTable, element);\n",
              "          const docLink = document.createElement('div');\n",
              "          docLink.innerHTML = docLinkHtml;\n",
              "          element.appendChild(docLink);\n",
              "        }\n",
              "      </script>\n",
              "    </div>\n",
              "  </div>\n"
            ]
          },
          "metadata": {},
          "execution_count": 11
        }
      ],
      "source": [
        "farmers = pd.read_csv(\"tweets.csv\",encoding='ISO-8859-1')\n",
        "farmers.head()"
      ]
    },
    {
      "cell_type": "markdown",
      "metadata": {
        "id": "gRTfiA42eYho"
      },
      "source": [
        "Let's convert them to dictionaries."
      ]
    },
    {
      "cell_type": "code",
      "execution_count": 12,
      "metadata": {
        "id": "qKE1R706FmoL"
      },
      "outputs": [],
      "source": [
        "womenmarch = womenmarch.to_dict()"
      ]
    },
    {
      "cell_type": "code",
      "execution_count": 13,
      "metadata": {
        "colab": {
          "base_uri": "https://localhost:8080/"
        },
        "id": "-LtvHY3ECyRK",
        "outputId": "bd455534-fcff-4120-ebb0-194764ad97ed"
      },
      "outputs": [
        {
          "output_type": "stream",
          "name": "stdout",
          "text": [
            "dict_keys(['Unnamed: 0', 'text', 'favorited', 'favoriteCount', 'replyToSN', 'created', 'truncated', 'replyToSID', 'id', 'replyToUID', 'statusSource', 'screenName', 'retweetCount', 'isRetweet', 'retweeted', 'longitude', 'latitude'])\n"
          ]
        }
      ],
      "source": [
        "print(womenmarch.keys())"
      ]
    },
    {
      "cell_type": "code",
      "execution_count": 14,
      "metadata": {
        "id": "-t6rK5bdh4Ul"
      },
      "outputs": [],
      "source": [
        "farmers = farmers.to_dict()"
      ]
    },
    {
      "cell_type": "code",
      "execution_count": 15,
      "metadata": {
        "colab": {
          "base_uri": "https://localhost:8080/"
        },
        "id": "o94I8Lgqh6yE",
        "outputId": "88a4c7a6-7519-4a1f-82f9-6eac328e101c"
      },
      "outputs": [
        {
          "output_type": "stream",
          "name": "stdout",
          "text": [
            "dict_keys(['tweetUrl', 'date', 'renderedContent', 'tweetId', 'userId', 'replyCount', 'retweetCount', 'likeCount', 'quoteCount', 'source', 'media', 'retweetedTweet', 'quotedTweet', 'mentionedUsers'])\n"
          ]
        }
      ],
      "source": [
        "print(farmers.keys())"
      ]
    },
    {
      "cell_type": "markdown",
      "source": [
        "Since there are some strange characters and URLs within the tweets, we don't want them to inferere with our analysis. Let's get rid of them ([look here](https://www.geeksforgeeks.org/python-removing-unwanted-characters-from-string/) and [here](https://stackoverflow.com/questions/43358857/how-to-remove-special-characters-except-space-from-a-file-in-python) for more info):"
      ],
      "metadata": {
        "id": "6cxr33hw8BSo"
      }
    },
    {
      "cell_type": "code",
      "execution_count": 16,
      "metadata": {
        "id": "eBw_AeWNmeGG"
      },
      "outputs": [],
      "source": [
        "import re\n",
        "\n",
        "for col in womenmarch:\n",
        "  if col == 'text':\n",
        "    womenmarch[col] = [re.sub(r'[^a-zA-Z0-9\\s]+', '', re.sub(r'http\\S+', '', tweet)) for tweet in womenmarch[col].values()]\n",
        "  else:\n",
        "    womenmarch[col] = list(womenmarch[col].values())"
      ]
    },
    {
      "cell_type": "code",
      "execution_count": 17,
      "metadata": {
        "id": "I61tVeEisagd"
      },
      "outputs": [],
      "source": [
        "for col in farmers:\n",
        "  if col == 'renderedContent':\n",
        "    farmers[col] = [re.sub(r'[^a-zA-Z0-9\\s]+', '', re.sub(r'http\\S+', '', tweet)) for tweet in farmers[col].values()]\n",
        "  else:\n",
        "    farmers[col] = list(farmers[col].values())"
      ]
    },
    {
      "cell_type": "markdown",
      "metadata": {
        "id": "3VZdQ9YFnAPv"
      },
      "source": [
        "Now, we'll convert them to Dataset objects."
      ]
    },
    {
      "cell_type": "code",
      "execution_count": 18,
      "metadata": {
        "id": "_APANhSQBuOn",
        "colab": {
          "base_uri": "https://localhost:8080/"
        },
        "outputId": "75a64fd5-df93-4082-d04b-77ece8055ffd"
      },
      "outputs": [
        {
          "output_type": "stream",
          "name": "stdout",
          "text": [
            "Collecting transformers\n",
            "  Downloading transformers-4.31.0-py3-none-any.whl (7.4 MB)\n",
            "\u001b[2K     \u001b[90m━━━━━━━━━━━━━━━━━━━━━━━━━━━━━━━━━━━━━━━━\u001b[0m \u001b[32m7.4/7.4 MB\u001b[0m \u001b[31m14.4 MB/s\u001b[0m eta \u001b[36m0:00:00\u001b[0m\n",
            "\u001b[?25hCollecting datasets\n",
            "  Downloading datasets-2.14.4-py3-none-any.whl (519 kB)\n",
            "\u001b[2K     \u001b[90m━━━━━━━━━━━━━━━━━━━━━━━━━━━━━━━━━━━━━━\u001b[0m \u001b[32m519.3/519.3 kB\u001b[0m \u001b[31m19.0 MB/s\u001b[0m eta \u001b[36m0:00:00\u001b[0m\n",
            "\u001b[?25hRequirement already satisfied: filelock in /usr/local/lib/python3.10/dist-packages (from transformers) (3.12.2)\n",
            "Collecting huggingface-hub<1.0,>=0.14.1 (from transformers)\n",
            "  Downloading huggingface_hub-0.16.4-py3-none-any.whl (268 kB)\n",
            "\u001b[2K     \u001b[90m━━━━━━━━━━━━━━━━━━━━━━━━━━━━━━━━━━━━━━\u001b[0m \u001b[32m268.8/268.8 kB\u001b[0m \u001b[31m15.8 MB/s\u001b[0m eta \u001b[36m0:00:00\u001b[0m\n",
            "\u001b[?25hRequirement already satisfied: numpy>=1.17 in /usr/local/lib/python3.10/dist-packages (from transformers) (1.23.5)\n",
            "Requirement already satisfied: packaging>=20.0 in /usr/local/lib/python3.10/dist-packages (from transformers) (23.1)\n",
            "Requirement already satisfied: pyyaml>=5.1 in /usr/local/lib/python3.10/dist-packages (from transformers) (6.0.1)\n",
            "Requirement already satisfied: regex!=2019.12.17 in /usr/local/lib/python3.10/dist-packages (from transformers) (2022.10.31)\n",
            "Requirement already satisfied: requests in /usr/local/lib/python3.10/dist-packages (from transformers) (2.31.0)\n",
            "Collecting tokenizers!=0.11.3,<0.14,>=0.11.1 (from transformers)\n",
            "  Downloading tokenizers-0.13.3-cp310-cp310-manylinux_2_17_x86_64.manylinux2014_x86_64.whl (7.8 MB)\n",
            "\u001b[2K     \u001b[90m━━━━━━━━━━━━━━━━━━━━━━━━━━━━━━━━━━━━━━━━\u001b[0m \u001b[32m7.8/7.8 MB\u001b[0m \u001b[31m37.3 MB/s\u001b[0m eta \u001b[36m0:00:00\u001b[0m\n",
            "\u001b[?25hCollecting safetensors>=0.3.1 (from transformers)\n",
            "  Downloading safetensors-0.3.2-cp310-cp310-manylinux_2_17_x86_64.manylinux2014_x86_64.whl (1.3 MB)\n",
            "\u001b[2K     \u001b[90m━━━━━━━━━━━━━━━━━━━━━━━━━━━━━━━━━━━━━━━━\u001b[0m \u001b[32m1.3/1.3 MB\u001b[0m \u001b[31m34.3 MB/s\u001b[0m eta \u001b[36m0:00:00\u001b[0m\n",
            "\u001b[?25hRequirement already satisfied: tqdm>=4.27 in /usr/local/lib/python3.10/dist-packages (from transformers) (4.65.0)\n",
            "Requirement already satisfied: pyarrow>=8.0.0 in /usr/local/lib/python3.10/dist-packages (from datasets) (9.0.0)\n",
            "Collecting dill<0.3.8,>=0.3.0 (from datasets)\n",
            "  Downloading dill-0.3.7-py3-none-any.whl (115 kB)\n",
            "\u001b[2K     \u001b[90m━━━━━━━━━━━━━━━━━━━━━━━━━━━━━━━━━━━━━━━\u001b[0m \u001b[32m115.3/115.3 kB\u001b[0m \u001b[31m9.1 MB/s\u001b[0m eta \u001b[36m0:00:00\u001b[0m\n",
            "\u001b[?25hRequirement already satisfied: pandas in /usr/local/lib/python3.10/dist-packages (from datasets) (1.5.3)\n",
            "Collecting xxhash (from datasets)\n",
            "  Downloading xxhash-3.3.0-cp310-cp310-manylinux_2_17_x86_64.manylinux2014_x86_64.whl (194 kB)\n",
            "\u001b[2K     \u001b[90m━━━━━━━━━━━━━━━━━━━━━━━━━━━━━━━━━━━━━━\u001b[0m \u001b[32m194.1/194.1 kB\u001b[0m \u001b[31m12.9 MB/s\u001b[0m eta \u001b[36m0:00:00\u001b[0m\n",
            "\u001b[?25hCollecting multiprocess (from datasets)\n",
            "  Downloading multiprocess-0.70.15-py310-none-any.whl (134 kB)\n",
            "\u001b[2K     \u001b[90m━━━━━━━━━━━━━━━━━━━━━━━━━━━━━━━━━━━━━━━\u001b[0m \u001b[32m134.8/134.8 kB\u001b[0m \u001b[31m9.0 MB/s\u001b[0m eta \u001b[36m0:00:00\u001b[0m\n",
            "\u001b[?25hRequirement already satisfied: fsspec[http]>=2021.11.1 in /usr/local/lib/python3.10/dist-packages (from datasets) (2023.6.0)\n",
            "Requirement already satisfied: aiohttp in /usr/local/lib/python3.10/dist-packages (from datasets) (3.8.5)\n",
            "Requirement already satisfied: attrs>=17.3.0 in /usr/local/lib/python3.10/dist-packages (from aiohttp->datasets) (23.1.0)\n",
            "Requirement already satisfied: charset-normalizer<4.0,>=2.0 in /usr/local/lib/python3.10/dist-packages (from aiohttp->datasets) (3.2.0)\n",
            "Requirement already satisfied: multidict<7.0,>=4.5 in /usr/local/lib/python3.10/dist-packages (from aiohttp->datasets) (6.0.4)\n",
            "Requirement already satisfied: async-timeout<5.0,>=4.0.0a3 in /usr/local/lib/python3.10/dist-packages (from aiohttp->datasets) (4.0.2)\n",
            "Requirement already satisfied: yarl<2.0,>=1.0 in /usr/local/lib/python3.10/dist-packages (from aiohttp->datasets) (1.9.2)\n",
            "Requirement already satisfied: frozenlist>=1.1.1 in /usr/local/lib/python3.10/dist-packages (from aiohttp->datasets) (1.4.0)\n",
            "Requirement already satisfied: aiosignal>=1.1.2 in /usr/local/lib/python3.10/dist-packages (from aiohttp->datasets) (1.3.1)\n",
            "Requirement already satisfied: typing-extensions>=3.7.4.3 in /usr/local/lib/python3.10/dist-packages (from huggingface-hub<1.0,>=0.14.1->transformers) (4.7.1)\n",
            "Requirement already satisfied: idna<4,>=2.5 in /usr/local/lib/python3.10/dist-packages (from requests->transformers) (3.4)\n",
            "Requirement already satisfied: urllib3<3,>=1.21.1 in /usr/local/lib/python3.10/dist-packages (from requests->transformers) (1.26.16)\n",
            "Requirement already satisfied: certifi>=2017.4.17 in /usr/local/lib/python3.10/dist-packages (from requests->transformers) (2023.7.22)\n",
            "Requirement already satisfied: python-dateutil>=2.8.1 in /usr/local/lib/python3.10/dist-packages (from pandas->datasets) (2.8.2)\n",
            "Requirement already satisfied: pytz>=2020.1 in /usr/local/lib/python3.10/dist-packages (from pandas->datasets) (2022.7.1)\n",
            "Requirement already satisfied: six>=1.5 in /usr/local/lib/python3.10/dist-packages (from python-dateutil>=2.8.1->pandas->datasets) (1.16.0)\n",
            "Installing collected packages: tokenizers, safetensors, xxhash, dill, multiprocess, huggingface-hub, transformers, datasets\n",
            "Successfully installed datasets-2.14.4 dill-0.3.7 huggingface-hub-0.16.4 multiprocess-0.70.15 safetensors-0.3.2 tokenizers-0.13.3 transformers-4.31.0 xxhash-3.3.0\n"
          ]
        }
      ],
      "source": [
        "! pip install transformers datasets"
      ]
    },
    {
      "cell_type": "code",
      "execution_count": 19,
      "metadata": {
        "id": "vfm7PzfihWbB"
      },
      "outputs": [],
      "source": [
        "from datasets import Dataset\n",
        "\n",
        "womenmarch = Dataset.from_pandas(pd.DataFrame(data=womenmarch))\n",
        "farmers = Dataset.from_pandas(pd.DataFrame(data=farmers))"
      ]
    },
    {
      "cell_type": "code",
      "execution_count": 20,
      "metadata": {
        "colab": {
          "base_uri": "https://localhost:8080/"
        },
        "id": "G0YL24EpvIz4",
        "outputId": "729b48e9-b1e6-4798-9711-018239b60374"
      },
      "outputs": [
        {
          "output_type": "stream",
          "name": "stdout",
          "text": [
            "So far I think 2017 has been the year of the women letlizspeak SallyYates WomensMarch melissamccarthy\n"
          ]
        }
      ],
      "source": [
        "print(womenmarch[\"text\"][0])"
      ]
    },
    {
      "cell_type": "code",
      "execution_count": 21,
      "metadata": {
        "colab": {
          "base_uri": "https://localhost:8080/"
        },
        "id": "LiQ82LiDvLOS",
        "outputId": "5b396317-59d2-4a9f-f369-ad951dd40c16"
      },
      "outputs": [
        {
          "output_type": "stream",
          "name": "stdout",
          "text": [
            "Support \n",
            "\n",
            "FarmersProtest\n"
          ]
        }
      ],
      "source": [
        "print(farmers[\"renderedContent\"][0])"
      ]
    },
    {
      "cell_type": "markdown",
      "metadata": {
        "id": "NI_AdThZvCQV"
      },
      "source": [
        "Great! Now, we can move on to the next step: fine-tuning our model."
      ]
    }
  ],
  "metadata": {
    "colab": {
      "provenance": [],
      "authorship_tag": "ABX9TyMWGNsM6LC0ww18Nzn5Ve12"
    },
    "kernelspec": {
      "display_name": "Python 3",
      "name": "python3"
    },
    "language_info": {
      "name": "python"
    }
  },
  "nbformat": 4,
  "nbformat_minor": 0
}